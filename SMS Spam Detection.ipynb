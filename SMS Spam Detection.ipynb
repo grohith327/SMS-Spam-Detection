{
 "cells": [
  {
   "cell_type": "code",
   "execution_count": 1,
   "metadata": {},
   "outputs": [],
   "source": [
    "import pandas as pd\n",
    "\n",
    "file_path = '/Users/rohith/Documents/Datasets/SMS_Spam/spam.csv'\n",
    "df = pd.read_csv(file_path)"
   ]
  },
  {
   "cell_type": "code",
   "execution_count": 2,
   "metadata": {},
   "outputs": [
    {
     "name": "stdout",
     "output_type": "stream",
     "text": [
      "        v1                                                 v2 Unnamed: 2  \\\n",
      "0      ham  Go until jurong point, crazy.. Available only ...        NaN   \n",
      "1      ham                      Ok lar... Joking wif u oni...        NaN   \n",
      "2     spam  Free entry in 2 a wkly comp to win FA Cup fina...        NaN   \n",
      "3      ham  U dun say so early hor... U c already then say...        NaN   \n",
      "4      ham  Nah I don't think he goes to usf, he lives aro...        NaN   \n",
      "5     spam  FreeMsg Hey there darling it's been 3 week's n...        NaN   \n",
      "6      ham  Even my brother is not like to speak with me. ...        NaN   \n",
      "7      ham  As per your request 'Melle Melle (Oru Minnamin...        NaN   \n",
      "8     spam  WINNER!! As a valued network customer you have...        NaN   \n",
      "9     spam  Had your mobile 11 months or more? U R entitle...        NaN   \n",
      "10     ham  I'm gonna be home soon and i don't want to tal...        NaN   \n",
      "11    spam  SIX chances to win CASH! From 100 to 20,000 po...        NaN   \n",
      "12    spam  URGENT! You have won a 1 week FREE membership ...        NaN   \n",
      "13     ham  I've been searching for the right words to tha...        NaN   \n",
      "14     ham                I HAVE A DATE ON SUNDAY WITH WILL!!        NaN   \n",
      "15    spam  XXXMobileMovieClub: To use your credit, click ...        NaN   \n",
      "16     ham                         Oh k...i'm watching here:)        NaN   \n",
      "17     ham  Eh u remember how 2 spell his name... Yes i di...        NaN   \n",
      "18     ham  Fine if that��s the way u feel. That��s the wa...        NaN   \n",
      "19    spam  England v Macedonia - dont miss the goals/team...        NaN   \n",
      "20     ham          Is that seriously how you spell his name?        NaN   \n",
      "21     ham  I���m going to try for 2 months ha ha only joking        NaN   \n",
      "22     ham  So �_ pay first lar... Then when is da stock c...        NaN   \n",
      "23     ham  Aft i finish my lunch then i go str down lor. ...        NaN   \n",
      "24     ham  Ffffffffff. Alright no way I can meet up with ...        NaN   \n",
      "25     ham  Just forced myself to eat a slice. I'm really ...        NaN   \n",
      "26     ham                     Lol your always so convincing.        NaN   \n",
      "27     ham  Did you catch the bus ? Are you frying an egg ...        NaN   \n",
      "28     ham  I'm back &amp; we're packing the car now, I'll...        NaN   \n",
      "29     ham  Ahhh. Work. I vaguely remember that! What does...        NaN   \n",
      "...    ...                                                ...        ...   \n",
      "5542   ham           Armand says get your ass over to epsilon        NaN   \n",
      "5543   ham             U still havent got urself a jacket ah?        NaN   \n",
      "5544   ham  I'm taking derek &amp; taylor to walmart, if I...        NaN   \n",
      "5545   ham      Hi its in durban are you still on this number        NaN   \n",
      "5546   ham         Ic. There are a lotta childporn cars then.        NaN   \n",
      "5547  spam  Had your contract mobile 11 Mnths? Latest Moto...        NaN   \n",
      "5548   ham                 No, I was trying it all weekend ;V        NaN   \n",
      "5549   ham  You know, wot people wear. T shirts, jumpers, ...        NaN   \n",
      "5550   ham        Cool, what time you think you can get here?        NaN   \n",
      "5551   ham  Wen did you get so spiritual and deep. That's ...        NaN   \n",
      "5552   ham  Have a safe trip to Nigeria. Wish you happines...        NaN   \n",
      "5553   ham                        Hahaha..use your brain dear        NaN   \n",
      "5554   ham  Well keep in mind I've only got enough gas for...        NaN   \n",
      "5555   ham  Yeh. Indians was nice. Tho it did kane me off ...        NaN   \n",
      "5556   ham  Yes i have. So that's why u texted. Pshew...mi...        NaN   \n",
      "5557   ham  No. I meant the calculation is the same. That ...        NaN   \n",
      "5558   ham                             Sorry, I'll call later        NaN   \n",
      "5559   ham  if you aren't here in the next  &lt;#&gt;  hou...        NaN   \n",
      "5560   ham                  Anything lor. Juz both of us lor.        NaN   \n",
      "5561   ham  Get me out of this dump heap. My mom decided t...        NaN   \n",
      "5562   ham  Ok lor... Sony ericsson salesman... I ask shuh...        NaN   \n",
      "5563   ham                                Ard 6 like dat lor.        NaN   \n",
      "5564   ham  Why don't you wait 'til at least wednesday to ...        NaN   \n",
      "5565   ham                                       Huh y lei...        NaN   \n",
      "5566  spam  REMINDER FROM O2: To get 2.50 pounds free call...        NaN   \n",
      "5567  spam  This is the 2nd time we have tried 2 contact u...        NaN   \n",
      "5568   ham              Will �_ b going to esplanade fr home?        NaN   \n",
      "5569   ham  Pity, * was in mood for that. So...any other s...        NaN   \n",
      "5570   ham  The guy did some bitching but I acted like i'd...        NaN   \n",
      "5571   ham                         Rofl. Its true to its name        NaN   \n",
      "\n",
      "     Unnamed: 3 Unnamed: 4  \n",
      "0           NaN        NaN  \n",
      "1           NaN        NaN  \n",
      "2           NaN        NaN  \n",
      "3           NaN        NaN  \n",
      "4           NaN        NaN  \n",
      "5           NaN        NaN  \n",
      "6           NaN        NaN  \n",
      "7           NaN        NaN  \n",
      "8           NaN        NaN  \n",
      "9           NaN        NaN  \n",
      "10          NaN        NaN  \n",
      "11          NaN        NaN  \n",
      "12          NaN        NaN  \n",
      "13          NaN        NaN  \n",
      "14          NaN        NaN  \n",
      "15          NaN        NaN  \n",
      "16          NaN        NaN  \n",
      "17          NaN        NaN  \n",
      "18          NaN        NaN  \n",
      "19          NaN        NaN  \n",
      "20          NaN        NaN  \n",
      "21          NaN        NaN  \n",
      "22          NaN        NaN  \n",
      "23          NaN        NaN  \n",
      "24          NaN        NaN  \n",
      "25          NaN        NaN  \n",
      "26          NaN        NaN  \n",
      "27          NaN        NaN  \n",
      "28          NaN        NaN  \n",
      "29          NaN        NaN  \n",
      "...         ...        ...  \n",
      "5542        NaN        NaN  \n",
      "5543        NaN        NaN  \n",
      "5544        NaN        NaN  \n",
      "5545        NaN        NaN  \n",
      "5546        NaN        NaN  \n",
      "5547        NaN        NaN  \n",
      "5548        NaN        NaN  \n",
      "5549        NaN        NaN  \n",
      "5550        NaN        NaN  \n",
      "5551        NaN        NaN  \n",
      "5552        NaN        NaN  \n",
      "5553        NaN        NaN  \n",
      "5554        NaN        NaN  \n",
      "5555        NaN        NaN  \n",
      "5556        NaN        NaN  \n",
      "5557        NaN        NaN  \n",
      "5558        NaN        NaN  \n",
      "5559        NaN        NaN  \n",
      "5560        NaN        NaN  \n",
      "5561        NaN        NaN  \n",
      "5562        NaN        NaN  \n",
      "5563        NaN        NaN  \n",
      "5564        NaN        NaN  \n",
      "5565        NaN        NaN  \n",
      "5566        NaN        NaN  \n",
      "5567        NaN        NaN  \n",
      "5568        NaN        NaN  \n",
      "5569        NaN        NaN  \n",
      "5570        NaN        NaN  \n",
      "5571        NaN        NaN  \n",
      "\n",
      "[5572 rows x 5 columns]\n"
     ]
    }
   ],
   "source": [
    "print(df)"
   ]
  },
  {
   "cell_type": "code",
   "execution_count": 6,
   "metadata": {},
   "outputs": [],
   "source": [
    "cols = df.columns\n",
    "intr = set()\n",
    "intr.add(cols[0])\n",
    "intr.add(cols[1])\n",
    "cols = set(cols)\n",
    "\n",
    "not_intr = cols - intr"
   ]
  },
  {
   "cell_type": "code",
   "execution_count": 8,
   "metadata": {},
   "outputs": [],
   "source": [
    "not_intr = list(not_intr)\n",
    "df = df.drop(not_intr,axis=1)"
   ]
  },
  {
   "cell_type": "code",
   "execution_count": 9,
   "metadata": {},
   "outputs": [
    {
     "name": "stdout",
     "output_type": "stream",
     "text": [
      "        v1                                                 v2\n",
      "0      ham  Go until jurong point, crazy.. Available only ...\n",
      "1      ham                      Ok lar... Joking wif u oni...\n",
      "2     spam  Free entry in 2 a wkly comp to win FA Cup fina...\n",
      "3      ham  U dun say so early hor... U c already then say...\n",
      "4      ham  Nah I don't think he goes to usf, he lives aro...\n",
      "5     spam  FreeMsg Hey there darling it's been 3 week's n...\n",
      "6      ham  Even my brother is not like to speak with me. ...\n",
      "7      ham  As per your request 'Melle Melle (Oru Minnamin...\n",
      "8     spam  WINNER!! As a valued network customer you have...\n",
      "9     spam  Had your mobile 11 months or more? U R entitle...\n",
      "10     ham  I'm gonna be home soon and i don't want to tal...\n",
      "11    spam  SIX chances to win CASH! From 100 to 20,000 po...\n",
      "12    spam  URGENT! You have won a 1 week FREE membership ...\n",
      "13     ham  I've been searching for the right words to tha...\n",
      "14     ham                I HAVE A DATE ON SUNDAY WITH WILL!!\n",
      "15    spam  XXXMobileMovieClub: To use your credit, click ...\n",
      "16     ham                         Oh k...i'm watching here:)\n",
      "17     ham  Eh u remember how 2 spell his name... Yes i di...\n",
      "18     ham  Fine if that��s the way u feel. That��s the wa...\n",
      "19    spam  England v Macedonia - dont miss the goals/team...\n",
      "20     ham          Is that seriously how you spell his name?\n",
      "21     ham  I���m going to try for 2 months ha ha only joking\n",
      "22     ham  So �_ pay first lar... Then when is da stock c...\n",
      "23     ham  Aft i finish my lunch then i go str down lor. ...\n",
      "24     ham  Ffffffffff. Alright no way I can meet up with ...\n",
      "25     ham  Just forced myself to eat a slice. I'm really ...\n",
      "26     ham                     Lol your always so convincing.\n",
      "27     ham  Did you catch the bus ? Are you frying an egg ...\n",
      "28     ham  I'm back &amp; we're packing the car now, I'll...\n",
      "29     ham  Ahhh. Work. I vaguely remember that! What does...\n",
      "...    ...                                                ...\n",
      "5542   ham           Armand says get your ass over to epsilon\n",
      "5543   ham             U still havent got urself a jacket ah?\n",
      "5544   ham  I'm taking derek &amp; taylor to walmart, if I...\n",
      "5545   ham      Hi its in durban are you still on this number\n",
      "5546   ham         Ic. There are a lotta childporn cars then.\n",
      "5547  spam  Had your contract mobile 11 Mnths? Latest Moto...\n",
      "5548   ham                 No, I was trying it all weekend ;V\n",
      "5549   ham  You know, wot people wear. T shirts, jumpers, ...\n",
      "5550   ham        Cool, what time you think you can get here?\n",
      "5551   ham  Wen did you get so spiritual and deep. That's ...\n",
      "5552   ham  Have a safe trip to Nigeria. Wish you happines...\n",
      "5553   ham                        Hahaha..use your brain dear\n",
      "5554   ham  Well keep in mind I've only got enough gas for...\n",
      "5555   ham  Yeh. Indians was nice. Tho it did kane me off ...\n",
      "5556   ham  Yes i have. So that's why u texted. Pshew...mi...\n",
      "5557   ham  No. I meant the calculation is the same. That ...\n",
      "5558   ham                             Sorry, I'll call later\n",
      "5559   ham  if you aren't here in the next  &lt;#&gt;  hou...\n",
      "5560   ham                  Anything lor. Juz both of us lor.\n",
      "5561   ham  Get me out of this dump heap. My mom decided t...\n",
      "5562   ham  Ok lor... Sony ericsson salesman... I ask shuh...\n",
      "5563   ham                                Ard 6 like dat lor.\n",
      "5564   ham  Why don't you wait 'til at least wednesday to ...\n",
      "5565   ham                                       Huh y lei...\n",
      "5566  spam  REMINDER FROM O2: To get 2.50 pounds free call...\n",
      "5567  spam  This is the 2nd time we have tried 2 contact u...\n",
      "5568   ham              Will �_ b going to esplanade fr home?\n",
      "5569   ham  Pity, * was in mood for that. So...any other s...\n",
      "5570   ham  The guy did some bitching but I acted like i'd...\n",
      "5571   ham                         Rofl. Its true to its name\n",
      "\n",
      "[5572 rows x 2 columns]\n"
     ]
    }
   ],
   "source": [
    "print(df)"
   ]
  },
  {
   "cell_type": "code",
   "execution_count": 10,
   "metadata": {},
   "outputs": [],
   "source": [
    "import numpy as np\n",
    "\n",
    "out = df['v1']\n",
    "text = df['v2']\n",
    "\n",
    "label = []\n",
    "for val in out:\n",
    "    if(val == 'ham'):\n",
    "        label.append(1)\n",
    "    else:\n",
    "        label.append(0)\n",
    "\n",
    "label = np.array(label)\n",
    "text = np.array(text)"
   ]
  },
  {
   "cell_type": "code",
   "execution_count": 16,
   "metadata": {},
   "outputs": [
    {
     "name": "stderr",
     "output_type": "stream",
     "text": [
      "/Users/rohith/anaconda3/envs/projects/lib/python2.7/site-packages/sklearn/cross_validation.py:41: DeprecationWarning: This module was deprecated in version 0.18 in favor of the model_selection module into which all the refactored classes and functions are moved. Also note that the interface of the new CV iterators are different from that of this module. This module will be removed in 0.20.\n",
      "  \"This module will be removed in 0.20.\", DeprecationWarning)\n"
     ]
    }
   ],
   "source": [
    "from sklearn.utils import shuffle\n",
    "from sklearn.cross_validation import train_test_split\n",
    "\n",
    "x_train = []\n",
    "x_test = []\n",
    "y_train = []\n",
    "y_test = []\n",
    "\n",
    "text, label = shuffle(text,label)\n",
    "x_train, x_test, y_train, y_test = train_test_split(text,label,train_size=0.9)\n",
    "\n",
    "x_train = np.array(x_train)\n",
    "x_test = np.array(x_test)\n",
    "y_train = np.array(y_train)\n",
    "y_test = np.array(y_test)"
   ]
  },
  {
   "cell_type": "code",
   "execution_count": 21,
   "metadata": {},
   "outputs": [],
   "source": [
    "from sklearn.feature_extraction.text import CountVectorizer, TfidfTransformer\n",
    "\n",
    "count_vect = CountVectorizer(decode_error='ignore')\n",
    "x_train_count = count_vect.fit_transform(x_train)\n",
    "tfidf_trans = TfidfTransformer()\n",
    "x_train_tfidf = tfidf_trans.fit_transform(x_train_count)\n",
    "\n",
    "x_test_count = count_vect.transform(x_test)\n",
    "x_test_tfidf = tfidf_trans.transform(x_test_count)"
   ]
  },
  {
   "cell_type": "code",
   "execution_count": 29,
   "metadata": {},
   "outputs": [
    {
     "data": {
      "text/plain": [
       "XGBClassifier(base_score=0.5, booster='gbtree', colsample_bylevel=1,\n",
       "       colsample_bytree=1, gamma=0, learning_rate=0.1, max_delta_step=0,\n",
       "       max_depth=3, min_child_weight=1, missing=None, n_estimators=200,\n",
       "       n_jobs=1, nthread=None, objective='binary:logistic', random_state=0,\n",
       "       reg_alpha=0, reg_lambda=1, scale_pos_weight=1, seed=None,\n",
       "       silent=True, subsample=1)"
      ]
     },
     "execution_count": 29,
     "metadata": {},
     "output_type": "execute_result"
    }
   ],
   "source": [
    "from xgboost import XGBClassifier\n",
    "\n",
    "clf = XGBClassifier(n_estimators=200)\n",
    "clf.fit(x_train_tfidf,y_train)"
   ]
  },
  {
   "cell_type": "code",
   "execution_count": 30,
   "metadata": {},
   "outputs": [
    {
     "name": "stdout",
     "output_type": "stream",
     "text": [
      "0.97311827957\n"
     ]
    }
   ],
   "source": [
    "from sklearn.metrics import accuracy_score\n",
    "\n",
    "y_pred = clf.predict(x_test_tfidf)\n",
    "print(accuracy_score(y_test,y_pred))"
   ]
  },
  {
   "cell_type": "code",
   "execution_count": null,
   "metadata": {},
   "outputs": [],
   "source": []
  }
 ],
 "metadata": {
  "kernelspec": {
   "display_name": "Python 2",
   "language": "python",
   "name": "python2"
  },
  "language_info": {
   "codemirror_mode": {
    "name": "ipython",
    "version": 2
   },
   "file_extension": ".py",
   "mimetype": "text/x-python",
   "name": "python",
   "nbconvert_exporter": "python",
   "pygments_lexer": "ipython2",
   "version": "2.7.14"
  }
 },
 "nbformat": 4,
 "nbformat_minor": 2
}
